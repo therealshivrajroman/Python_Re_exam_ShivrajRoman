{
 "cells": [
  {
   "cell_type": "code",
   "execution_count": 1,
   "id": "c85f35d4-b016-4ac6-88f6-7616628a1330",
   "metadata": {},
   "outputs": [],
   "source": [
    "# Q. 1) A company is developing a text segmentation tool that takes a string without spaces and checks if it\n",
    "# can be split into meaningful words based on a given dictionary."
   ]
  },
  {
   "cell_type": "code",
   "execution_count": 2,
   "id": "3233ac45-5b90-4a89-a043-6e2a13b2b047",
   "metadata": {},
   "outputs": [
    {
     "name": "stdout",
     "output_type": "stream",
     "text": [
      "True\n",
      "False\n"
     ]
    }
   ],
   "source": [
    "def wordBreak(s, wordDict):\n",
    "    wordSet = set(wordDict)  \n",
    "    dp = [False] * (len(s) + 1)\n",
    "    dp[0] = True  \n",
    "    \n",
    "    for i in range(1, len(s) + 1):\n",
    "        for j in range(i):\n",
    "            if dp[j] and s[j:i] in wordSet:\n",
    "                dp[i] = True\n",
    "                break  \n",
    "    \n",
    "    return dp[len(s)]\n",
    "\n",
    "# Example 1 case\n",
    "s1 = \"applepenapple\"\n",
    "wordDict1 = [\"apple\", \"pen\"]\n",
    "print(wordBreak(s1, wordDict1))  \n",
    "\n",
    "# Example 2 case\n",
    "s2 = \"catsandog\"\n",
    "wordDict2 = [\"cats\", \"dog\", \"sand\", \"and\", \"cat\"]\n",
    "\n",
    "print(wordBreak(s2, wordDict2)) \n"
   ]
  },
  {
   "cell_type": "code",
   "execution_count": 3,
   "id": "a073ca88-98f9-4946-b5ab-7cca9c446bba",
   "metadata": {},
   "outputs": [],
   "source": [
    "# Q. 2) A text analysis application requires a feature to identify the longest palindromic substring from a given string. \n",
    "# A palindrome is a sequence of characters that reads the same forward and backward."
   ]
  },
  {
   "cell_type": "code",
   "execution_count": 4,
   "id": "15929ea6-2245-43b6-a894-d03574c462e9",
   "metadata": {},
   "outputs": [
    {
     "name": "stdout",
     "output_type": "stream",
     "text": [
      "bab\n",
      "bb\n",
      "racecar\n",
      "a\n"
     ]
    }
   ],
   "source": [
    "def longestPalindrome(s):\n",
    "    if not s:\n",
    "        return \"\"\n",
    "    \n",
    "    start, max_length = 0, 0\n",
    "    \n",
    "    def expandAroundCenter(left, right):\n",
    "        nonlocal start, max_length\n",
    "        while left >= 0 and right < len(s) and s[left] == s[right]:\n",
    "            left -= 1\n",
    "            right += 1\n",
    "        \n",
    "        if max_length < right - left - 1:\n",
    "            start = left + 1\n",
    "            max_length = right - left - 1\n",
    "    \n",
    "    for i in range(len(s)):\n",
    "        expandAroundCenter(i, i)  \n",
    "        expandAroundCenter(i, i + 1)  \n",
    "    \n",
    "    return s[start:start + max_length]\n",
    "\n",
    "# Example cases as provided in QP\n",
    "\n",
    "s1 = \"babad\"\n",
    "print(longestPalindrome(s1)) \n",
    "\n",
    "s2 = \"cbbd\"\n",
    "print(longestPalindrome(s2))  \n",
    "\n",
    "s3 = \"racecar\"\n",
    "print(longestPalindrome(s3))\n",
    "\n",
    "s4 = \"abcdef\"\n",
    "print(longestPalindrome(s4))  \n"
   ]
  },
  {
   "cell_type": "code",
   "execution_count": 5,
   "id": "1dac6ff2-e1d6-451f-90b6-b466b2231fa2",
   "metadata": {},
   "outputs": [],
   "source": [
    "# Q 3) A data analysis tool needs to find common elements between two datasets. \n",
    "# Given two integer arrays nums1 and nums2, return a list containing only the elements present in both arrays."
   ]
  },
  {
   "cell_type": "code",
   "execution_count": 6,
   "id": "ed26b27d-12d0-4d04-9af5-9e4aed4e5879",
   "metadata": {},
   "outputs": [
    {
     "name": "stdout",
     "output_type": "stream",
     "text": [
      "[2]\n",
      "[9, 4]\n",
      "[]\n"
     ]
    }
   ],
   "source": [
    "def find_common_elements(nums1, nums2):\n",
    "\n",
    "    set1 = set(nums1)\n",
    "    set2 = set(nums2)\n",
    "    \n",
    "    \n",
    "    common_elements = list(set1 & set2)\n",
    "    \n",
    "    return common_elements\n",
    "\n",
    "\n",
    "nums1 = [1, 2, 2, 1]\n",
    "nums2 = [2, 2]\n",
    "print(find_common_elements(nums1, nums2))  \n",
    "\n",
    "nums1 = [4, 9, 5]\n",
    "nums2 = [9, 4, 9, 8, 4]\n",
    "print(find_common_elements(nums1, nums2)) \n",
    "\n",
    "nums1 = [1, 3, 5, 7]\n",
    "nums2 = [2, 4, 6, 8]\n",
    "print(find_common_elements(nums1, nums2))  \n"
   ]
  }
 ],
 "metadata": {
  "kernelspec": {
   "display_name": "Python 3 (ipykernel)",
   "language": "python",
   "name": "python3"
  },
  "language_info": {
   "codemirror_mode": {
    "name": "ipython",
    "version": 3
   },
   "file_extension": ".py",
   "mimetype": "text/x-python",
   "name": "python",
   "nbconvert_exporter": "python",
   "pygments_lexer": "ipython3",
   "version": "3.12.7"
  }
 },
 "nbformat": 4,
 "nbformat_minor": 5
}
